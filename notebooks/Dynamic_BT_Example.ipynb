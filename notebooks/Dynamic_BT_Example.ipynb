{
 "cells": [
  {
   "cell_type": "markdown",
   "metadata": {},
   "source": [
    "# Dynamic BT Example"
   ]
  },
  {
   "cell_type": "code",
   "execution_count": 1,
   "metadata": {},
   "outputs": [],
   "source": [
    "import os, sys\n",
    "sys.path.append(\"./..\")"
   ]
  },
  {
   "cell_type": "code",
   "execution_count": 2,
   "metadata": {},
   "outputs": [],
   "source": [
    "\n",
    "from pypolyagamma import PyPolyaGamma\n",
    "import numpy as np\n",
    "import pandas as pd\n",
    "from scipy.stats import binom, norm, multivariate_normal"
   ]
  },
  {
   "cell_type": "code",
   "execution_count": 3,
   "metadata": {},
   "outputs": [],
   "source": [
    "from src.dyn_bt import mcmc_dbt, simulate_data, sample_aux_vars, diff_matrix, identity_matrix\n"
   ]
  },
  {
   "cell_type": "code",
   "execution_count": 4,
   "metadata": {},
   "outputs": [],
   "source": [
    "# simulate data\n",
    "\n",
    "## Params\n",
    "### time init\n",
    "time_start = 0\n",
    "time_end = 50\n",
    "time_range = range(time_start,time_end)\n",
    "\n",
    "### number of players\n",
    "num_players = 10\n",
    "matches_per_pair = 20\n",
    "\n",
    "# number of matches \n",
    "num_matches = [np.matrix([[matches_per_pair if j>i else 0 \n",
    "                           for j in range(0, num_players) ] \n",
    "                          for i in range(0,num_players)])\n",
    "               for t in time_range]\n",
    "\n",
    "# abilities evolution\n",
    "rho = 0.8\n",
    "sig = 1\n",
    "\n",
    "# state init\n",
    "beta_0 = norm.rvs(size=3, loc=1, scale=3)\n",
    "cov_0 = norm.rvs(size=3, loc=1, scale=3)\n",
    "covariates = [[cov_0 for i in range(num_players)] for t in time_range]\n",
    "covariates = np.array([norm.rvs(size=3, loc=1, scale=3) for i in range(num_players)])\n",
    "init_betas = [norm.rvs(size=3, loc=1, scale=3) for t in time_range]"
   ]
  },
  {
   "cell_type": "code",
   "execution_count": 5,
   "metadata": {},
   "outputs": [],
   "source": [
    "# simulate data \n",
    "y_obs, beta_true = simulate_data(beta_0, num_players, num_matches, time_range, rho, sig, covariates)"
   ]
  },
  {
   "cell_type": "code",
   "execution_count": null,
   "metadata": {},
   "outputs": [
    {
     "name": "stdout",
     "output_type": "stream",
     "text": [
      "Simulation 0 of 1000\n",
      "Simulation 100 of 1000\n",
      "Simulation 200 of 1000\n",
      "Simulation 300 of 1000\n",
      "Simulation 400 of 1000\n",
      "Simulation 500 of 1000\n",
      "Simulation 600 of 1000\n",
      "Simulation 700 of 1000\n",
      "Simulation 800 of 1000\n"
     ]
    }
   ],
   "source": [
    "output = mcmc_dbt(covariates, y_obs, beta_0, init_betas,num_matches,time_range,num_players, rho, sig, nsim=1000)"
   ]
  },
  {
   "cell_type": "code",
   "execution_count": null,
   "metadata": {},
   "outputs": [],
   "source": [
    "res = [pd.DataFrame(df) for df in output]\n",
    "for i in range(len(res)):\n",
    "    df = res[i]\n",
    "    df['Iter'] = str(i)\n",
    "output = pd.concat(res)\n",
    "output = output.reset_index()\n",
    "\n",
    "key = ['index','Iter']\n",
    "df = output.set_index(key).stack()\n",
    "df = df.reset_index()\n",
    "df.columns = key + ['Param','Value']\n",
    "df['Param'] = df['Param'].apply(lambda x: \"Param_{0}\".format(x))\n",
    "df = df.drop('Iter', axis=1)\n",
    "df['Type'] = 'Simulated'\n",
    "\n",
    "\n",
    "true_vals_df = pd.DataFrame(beta_true).reset_index().set_index('index').stack()\n",
    "true_vals_df = true_vals_df.reset_index()\n",
    "true_vals_df.columns = ['index'] + ['Param','Value']\n",
    "true_vals_df['Param'] = true_vals_df['Param'].apply(lambda x: \"Param_{0}\".format(x))\n",
    "true_vals_df['Type'] = 'True'"
   ]
  },
  {
   "cell_type": "code",
   "execution_count": null,
   "metadata": {},
   "outputs": [],
   "source": [
    "import seaborn as sns\n",
    "sns.set(style=\"darkgrid\")\n",
    "import matplotlib.pyplot as plt\n",
    "\n",
    "a4_dims = (15, 10)\n",
    "fig, ax = plt.subplots(figsize=a4_dims)\n",
    "\n",
    "plot_df = pd.concat([df, true_vals_df])\n",
    "# Plot the responses for different events and regions\n",
    "sns.lineplot(x=\"index\", y='Value', hue='Param', data=plot_df, ax=ax, style='Type')"
   ]
  },
  {
   "cell_type": "code",
   "execution_count": null,
   "metadata": {},
   "outputs": [],
   "source": []
  }
 ],
 "metadata": {
  "kernelspec": {
   "display_name": "Python 3",
   "language": "python",
   "name": "python3"
  },
  "language_info": {
   "codemirror_mode": {
    "name": "ipython",
    "version": 3
   },
   "file_extension": ".py",
   "mimetype": "text/x-python",
   "name": "python",
   "nbconvert_exporter": "python",
   "pygments_lexer": "ipython3",
   "version": "3.6.8"
  }
 },
 "nbformat": 4,
 "nbformat_minor": 2
}
