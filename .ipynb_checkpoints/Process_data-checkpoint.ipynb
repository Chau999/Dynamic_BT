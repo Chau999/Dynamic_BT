{
 "cells": [
  {
   "cell_type": "code",
   "execution_count": 18,
   "metadata": {},
   "outputs": [],
   "source": [
    "import pandas as pd\n",
    "import numpy as np\n",
    "import matplotlib.pylab as plt\n",
    "\n",
    "%matplotlib inline"
   ]
  },
  {
   "cell_type": "markdown",
   "metadata": {},
   "source": [
    "## Model the matches"
   ]
  },
  {
   "cell_type": "code",
   "execution_count": 19,
   "metadata": {},
   "outputs": [],
   "source": [
    "yr_ls = [2007 + i for i in range(9)]\n",
    "nfl_dict = {}\n",
    "for yr in year_ls:\n",
    "    nfl_dict[yr] = pd.read_csv(\"NFL_data/\"+str(yr)+\".csv\")\n",
    "    nfl_dict[yr].columns = ['win', 'loser', 'PtsW', 'PtsL', 'YdsW', 'TOW', 'YdsL',\n",
    "       'TOL']"
   ]
  },
  {
   "cell_type": "code",
   "execution_count": 25,
   "metadata": {},
   "outputs": [],
   "source": [
    "ls1 = [i for i in nfl_dict[2007][\"win\"]]\n",
    "ls2 = [i for i in nfl_dict[2007][\"loser\"]]\n",
    "\n",
    "teams = list(set(ls1 + ls2))\n",
    "teams.sort()"
   ]
  },
  {
   "cell_type": "markdown",
   "metadata": {},
   "source": [
    "# Create y and n matrix for each year"
   ]
  },
  {
   "cell_type": "code",
   "execution_count": 23,
   "metadata": {},
   "outputs": [],
   "source": [
    "ymat_dict = {}\n",
    "nmat_dict = {}\n",
    "for yr in yr_ls:\n",
    "    ymat_dict[yr] = pd.DataFrame(np.zeros((32,32)), columns=teams, index=teams)\n",
    "    nmat_dict[yr] = pd.DataFrame(np.zeros((32,32)), columns=teams, index=teams)\n",
    "    for row in range(nfl_dict[yr].shape[0]):\n",
    "        i = nfl_dict[yr].loc[row, \"win\"]\n",
    "        j = nfl_dict[yr].loc[row, \"loser\"]\n",
    "        ymat_dict[yr].loc[i, j] += 1\n",
    "    nmat_dict[yr] = ymat_dict[yr] + ymat_dict[yr].T\n",
    "    nmat_dict[yr] = pd.DataFrame(np.tril(nmat_dict[yr]), index=teams, columns=teams)\n",
    "    ymat_dict[yr] = pd.DataFrame(np.tril(ymat_dict[yr]), index=teams, columns=teams)"
   ]
  },
  {
   "cell_type": "code",
   "execution_count": 24,
   "metadata": {},
   "outputs": [],
   "source": [
    "ymat_ls = []\n",
    "nmat_ls = []\n",
    "for yr in yr_ls:\n",
    "    ymat_ls.append(ymat_dict[yr])\n",
    "    nmat_ls.append(nmat_dict[yr])"
   ]
  },
  {
   "cell_type": "code",
   "execution_count": null,
   "metadata": {},
   "outputs": [],
   "source": []
  }
 ],
 "metadata": {
  "kernelspec": {
   "display_name": "Python 3",
   "language": "python",
   "name": "python3"
  },
  "language_info": {
   "codemirror_mode": {
    "name": "ipython",
    "version": 3
   },
   "file_extension": ".py",
   "mimetype": "text/x-python",
   "name": "python",
   "nbconvert_exporter": "python",
   "pygments_lexer": "ipython3",
   "version": "3.6.6"
  }
 },
 "nbformat": 4,
 "nbformat_minor": 2
}
