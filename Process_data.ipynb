{
 "cells": [
  {
   "cell_type": "code",
   "execution_count": 1,
   "metadata": {},
   "outputs": [],
   "source": [
    "import pandas as pd\n",
    "import numpy as np\n",
    "import matplotlib.pylab as plt\n",
    "\n",
    "%matplotlib inline"
   ]
  },
  {
   "cell_type": "code",
   "execution_count": 2,
   "metadata": {},
   "outputs": [],
   "source": [
    "year_ls = [2007 + i for i in range(12)]\n",
    "nfl_dict = {}\n",
    "for yr in year_ls:\n",
    "    nfl_dict[yr] = pd.read_csv(\"NFL_data/\"+str(yr)+\".csv\")"
   ]
  },
  {
   "cell_type": "code",
   "execution_count": 3,
   "metadata": {},
   "outputs": [
    {
     "name": "stdout",
     "output_type": "stream",
     "text": [
      "['Arizona Cardinals', 'Atlanta Falcons', 'Baltimore Ravens', 'Buffalo Bills', 'Carolina Panthers', 'Chicago Bears', 'Cincinnati Bengals', 'Cleveland Browns', 'Dallas Cowboys', 'Denver Broncos', 'Detroit Lions', 'Green Bay Packers', 'Houston Texans', 'Indianapolis Colts', 'Jacksonville Jaguars', 'Kansas City Chiefs', 'Miami Dolphins', 'Minnesota Vikings', 'New England Patriots', 'New Orleans Saints', 'New York Giants', 'New York Jets', 'Oakland Raiders', 'Philadelphia Eagles', 'Pittsburgh Steelers', 'San Diego Chargers', 'San Francisco 49ers', 'Seattle Seahawks', 'St. Louis Rams', 'Tampa Bay Buccaneers', 'Tennessee Titans', 'Washington Redskins']\n"
     ]
    }
   ],
   "source": [
    "ls1 = [i for i in nfl_dict[2007][\"Winner/tie\"]]\n",
    "ls2 = [i for i in nfl_dict[2007][\"Loser/tie\"]]\n",
    "\n",
    "teams = list(set(ls1 + ls2))\n",
    "teams.sort()\n",
    "print(teams)"
   ]
  },
  {
   "cell_type": "code",
   "execution_count": 4,
   "metadata": {
    "scrolled": true
   },
   "outputs": [
    {
     "name": "stdout",
     "output_type": "stream",
     "text": [
      "True\n",
      "True\n",
      "True\n",
      "True\n",
      "True\n",
      "True\n",
      "True\n",
      "True\n",
      "True\n",
      "False\n",
      "False\n",
      "False\n"
     ]
    }
   ],
   "source": [
    "# Check whether there are team's name not consistent\n",
    "\n",
    "for yr in year_ls:\n",
    "    ls1 = [i for i in nfl_dict[yr][\"Winner/tie\"]]\n",
    "    ls2 = [i for i in nfl_dict[yr][\"Loser/tie\"]]\n",
    "    \n",
    "    hold = list(set(ls1 + ls2))\n",
    "    hold.sort()\n",
    "    print(teams == hold)"
   ]
  },
  {
   "cell_type": "markdown",
   "metadata": {},
   "source": [
    "it seems that after 2016, they have introduced new teams etc. So we do not consider NFL matches after 2016. "
   ]
  },
  {
   "cell_type": "markdown",
   "metadata": {},
   "source": [
    "## Model the matches"
   ]
  },
  {
   "cell_type": "code",
   "execution_count": 8,
   "metadata": {},
   "outputs": [],
   "source": [
    "yr_ls = [2007 + i for i in range(9)]\n",
    "nfl_dict = {}\n",
    "for yr in year_ls:\n",
    "    nfl_dict[yr] = pd.read_csv(\"NFL_data/\"+str(yr)+\".csv\")\n",
    "    nfl_dict[yr].columns = ['win', 'loser', 'PtsW', 'PtsL', 'YdsW', 'TOW', 'YdsL',\n",
    "       'TOL']"
   ]
  },
  {
   "cell_type": "markdown",
   "metadata": {},
   "source": [
    "# Create y and n matrix for each year"
   ]
  },
  {
   "cell_type": "code",
   "execution_count": 12,
   "metadata": {},
   "outputs": [
    {
     "data": {
      "text/plain": [
       "[2007, 2008, 2009, 2010, 2011, 2012, 2013, 2014, 2015]"
      ]
     },
     "execution_count": 12,
     "metadata": {},
     "output_type": "execute_result"
    }
   ],
   "source": [
    "yr_ls"
   ]
  },
  {
   "cell_type": "code",
   "execution_count": 13,
   "metadata": {},
   "outputs": [],
   "source": [
    "ymat_dict = {}\n",
    "nmat_dict = {}\n",
    "for yr in yr_ls:\n",
    "    ymat_dict[yr] = pd.DataFrame(np.zeros((32,32)), columns=teams, index=teams)\n",
    "    nmat_dict[yr] = pd.DataFrame(np.zeros((32,32)), columns=teams, index=teams)\n",
    "    for row in range(nfl_dict[yr].shape[0]):\n",
    "        i = nfl_dict[yr].loc[row, \"win\"]\n",
    "        j = nfl_dict[yr].loc[row, \"loser\"]\n",
    "        ymat_dict[yr].loc[i, j] += 1\n",
    "    nmat_dict[yr] = ymat_dict[yr] + ymat_dict[yr].T\n",
    "    nmat_dict[yr] = pd.DataFrame(np.tril(nmat_dict[yr]), index=teams, columns=teams)\n",
    "    ymat_dict[yr] = pd.DataFrame(np.tril(ymat_dict[yr]), index=teams, columns=teams)"
   ]
  },
  {
   "cell_type": "code",
   "execution_count": 16,
   "metadata": {},
   "outputs": [],
   "source": [
    "ymat_ls = []\n",
    "nmat_ls = []\n",
    "for yr in yr_ls:\n",
    "    ymat_ls.append(ymat_dict[yr])\n",
    "    nmat_ls.append(nmat_dict[yr])"
   ]
  },
  {
   "cell_type": "code",
   "execution_count": null,
   "metadata": {},
   "outputs": [],
   "source": []
  }
 ],
 "metadata": {
  "kernelspec": {
   "display_name": "Python 3",
   "language": "python",
   "name": "python3"
  },
  "language_info": {
   "codemirror_mode": {
    "name": "ipython",
    "version": 3
   },
   "file_extension": ".py",
   "mimetype": "text/x-python",
   "name": "python",
   "nbconvert_exporter": "python",
   "pygments_lexer": "ipython3",
   "version": "3.6.6"
  }
 },
 "nbformat": 4,
 "nbformat_minor": 2
}
